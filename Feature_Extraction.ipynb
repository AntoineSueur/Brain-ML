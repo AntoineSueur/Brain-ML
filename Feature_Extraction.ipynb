{
 "cells": [
  {
   "cell_type": "markdown",
   "metadata": {},
   "source": [
    "# TODO\n",
    "- Traiter le cas de mots inconnus pour les word embeddings\n",
    "- Optimiser dataloader\n",
    "- Trouver autre dataset\n",
    "- calculer sparsité\n",
    "- Comparer plusieurs sparsité / autoencodeurs under/overcomplete/sans autoencodeur\n",
    "- Comparer avec approche classique kmeans \n",
    "- Generer dataset syntethique couleur forme unique position variable"
   ]
  },
  {
   "cell_type": "code",
   "execution_count": 1,
   "metadata": {
    "scrolled": true
   },
   "outputs": [
    {
     "name": "stderr",
     "output_type": "stream",
     "text": [
      "C:\\Users\\Pierre\\Anaconda3\\lib\\site-packages\\gensim\\utils.py:1212: UserWarning: detected Windows; aliasing chunkize to chunkize_serial\n",
      "  warnings.warn(\"detected Windows; aliasing chunkize to chunkize_serial\")\n"
     ]
    }
   ],
   "source": [
    "from __future__ import print_function, division\n",
    "\n",
    "import gensim\n",
    "import numpy as np\n",
    "import pandas as pd\n",
    "import sys, time, os, warnings \n",
    "from collections import Counter \n",
    "import matplotlib.pyplot as plt\n",
    "warnings.filterwarnings(\"ignore\")\n",
    "\n",
    "import torchvision.models as models\n",
    "\n",
    "import torch\n",
    "import torch.nn as nn\n",
    "import torch.optim as optim\n",
    "from torch.optim import lr_scheduler\n",
    "import numpy as np\n",
    "import torchvision\n",
    "from torchvision import datasets, models, transforms\n",
    "from skimage import io\n",
    "import matplotlib.pyplot as plt\n",
    "import time\n",
    "import os\n",
    "import copy\n",
    "#import cv2\n",
    "# pip3 install http://download.pytorch.org/whl/cu90/torch-0.4.1-cp36-cp36m-win_amd64.whl\n",
    "# pip3 install torchvision\n"
   ]
  },
  {
   "cell_type": "markdown",
   "metadata": {},
   "source": [
    "# Load Data"
   ]
  },
  {
   "cell_type": "code",
   "execution_count": 2,
   "metadata": {},
   "outputs": [
    {
     "name": "stdout",
     "output_type": "stream",
     "text": [
      "The number of jpg files in train dataset: 2000\n",
      "The number of jpg files in test dataset: 200\n"
     ]
    }
   ],
   "source": [
    "## The location of the train images\n",
    "dir_train_jpg = \"./Data/Circle_Dataset/train/images/\"\n",
    "## The location of the test images\n",
    "dir_test_jpg = \"./Data/Circle_Dataset/test/images/\"\n",
    "## The location of the train caption file\n",
    "dir_text_train = \"./data/Circle_text/circle_annotations_train.txt\"\n",
    "## The location of the test caption file\n",
    "dir_text_test = \"./data/Circle_text/circle_annotations_test.txt\"\n",
    "\n",
    "\n",
    "jpgs = os.listdir(dir_train_jpg)\n",
    "print(\"The number of jpg files in train dataset: {}\".format(len(jpgs)))\n",
    "jpgs = os.listdir(dir_test_jpg)\n",
    "print(\"The number of jpg files in test dataset: {}\".format(len(jpgs)))"
   ]
  },
  {
   "cell_type": "code",
   "execution_count": 3,
   "metadata": {},
   "outputs": [
    {
     "name": "stdout",
     "output_type": "stream",
     "text": [
      "The number of unique file names : 2000\n",
      "The distribution of the number of captions for each image:\n",
      "The number of unique file names : 200\n",
      "The distribution of the number of captions for each image:\n"
     ]
    }
   ],
   "source": [
    "## read in the Flickr caption data\n",
    "def annotations_reading(dir_text):\n",
    "    file = open(dir_text,'r')\n",
    "    text = file.read()\n",
    "    file.close()\n",
    "\n",
    "\n",
    "    datatxt = []\n",
    "    for line in text.split('\\n'):\n",
    "        col = line.split('\\t')\n",
    "        if len(col) == 1:\n",
    "            continue\n",
    "        w = col[0].split(\"#\")\n",
    "        datatxt.append(w + [col[1].lower()])\n",
    "\n",
    "\n",
    "    df_txt = pd.DataFrame(datatxt,columns=[\"filename\",\"index\",\"caption\"])\n",
    "\n",
    "    uni_filenames = np.unique(df_txt.filename.values)\n",
    "    print(\"The number of unique file names : {}\".format(len(uni_filenames)))\n",
    "    print(\"The distribution of the number of captions for each image:\")\n",
    "    Counter(Counter(df_txt.filename.values).values())\n",
    "    \n",
    "    return df_txt, uni_filenames\n",
    "\n",
    "df_txt_train, uni_filenames_train = annotations_reading(dir_text_train)\n",
    "df_txt_test, uni_filenames_test = annotations_reading(dir_text_test)"
   ]
  },
  {
   "cell_type": "code",
   "execution_count": 4,
   "metadata": {
    "scrolled": true
   },
   "outputs": [
    {
     "name": "stderr",
     "output_type": "stream",
     "text": [
      "Using TensorFlow backend.\n"
     ]
    },
    {
     "ename": "ModuleNotFoundError",
     "evalue": "No module named 'tensorflow'",
     "output_type": "error",
     "traceback": [
      "\u001b[1;31m---------------------------------------------------------------------------\u001b[0m",
      "\u001b[1;31mModuleNotFoundError\u001b[0m                       Traceback (most recent call last)",
      "\u001b[1;32m<ipython-input-4-7aad200747a2>\u001b[0m in \u001b[0;36m<module>\u001b[1;34m()\u001b[0m\n\u001b[1;32m----> 1\u001b[1;33m \u001b[1;32mfrom\u001b[0m \u001b[0mkeras\u001b[0m\u001b[1;33m.\u001b[0m\u001b[0mpreprocessing\u001b[0m\u001b[1;33m.\u001b[0m\u001b[0mimage\u001b[0m \u001b[1;32mimport\u001b[0m \u001b[0mload_img\u001b[0m\u001b[1;33m,\u001b[0m \u001b[0mimg_to_array\u001b[0m\u001b[1;33m\u001b[0m\u001b[0m\n\u001b[0m\u001b[0;32m      2\u001b[0m \u001b[1;33m\u001b[0m\u001b[0m\n\u001b[0;32m      3\u001b[0m \u001b[0mnpix\u001b[0m \u001b[1;33m=\u001b[0m \u001b[1;36m224\u001b[0m\u001b[1;33m\u001b[0m\u001b[0m\n\u001b[0;32m      4\u001b[0m \u001b[0mtarget_size\u001b[0m \u001b[1;33m=\u001b[0m \u001b[1;33m(\u001b[0m\u001b[0mnpix\u001b[0m\u001b[1;33m,\u001b[0m\u001b[0mnpix\u001b[0m\u001b[1;33m,\u001b[0m\u001b[1;36m3\u001b[0m\u001b[1;33m)\u001b[0m\u001b[1;33m\u001b[0m\u001b[0m\n\u001b[0;32m      5\u001b[0m \u001b[1;33m\u001b[0m\u001b[0m\n",
      "\u001b[1;32mD:\\Anaconda3\\lib\\site-packages\\keras\\__init__.py\u001b[0m in \u001b[0;36m<module>\u001b[1;34m()\u001b[0m\n\u001b[0;32m      1\u001b[0m \u001b[1;32mfrom\u001b[0m \u001b[0m__future__\u001b[0m \u001b[1;32mimport\u001b[0m \u001b[0mabsolute_import\u001b[0m\u001b[1;33m\u001b[0m\u001b[0m\n\u001b[0;32m      2\u001b[0m \u001b[1;33m\u001b[0m\u001b[0m\n\u001b[1;32m----> 3\u001b[1;33m \u001b[1;32mfrom\u001b[0m \u001b[1;33m.\u001b[0m \u001b[1;32mimport\u001b[0m \u001b[0mutils\u001b[0m\u001b[1;33m\u001b[0m\u001b[0m\n\u001b[0m\u001b[0;32m      4\u001b[0m \u001b[1;32mfrom\u001b[0m \u001b[1;33m.\u001b[0m \u001b[1;32mimport\u001b[0m \u001b[0mactivations\u001b[0m\u001b[1;33m\u001b[0m\u001b[0m\n\u001b[0;32m      5\u001b[0m \u001b[1;32mfrom\u001b[0m \u001b[1;33m.\u001b[0m \u001b[1;32mimport\u001b[0m \u001b[0mapplications\u001b[0m\u001b[1;33m\u001b[0m\u001b[0m\n",
      "\u001b[1;32mD:\\Anaconda3\\lib\\site-packages\\keras\\utils\\__init__.py\u001b[0m in \u001b[0;36m<module>\u001b[1;34m()\u001b[0m\n\u001b[0;32m      4\u001b[0m \u001b[1;32mfrom\u001b[0m \u001b[1;33m.\u001b[0m \u001b[1;32mimport\u001b[0m \u001b[0mdata_utils\u001b[0m\u001b[1;33m\u001b[0m\u001b[0m\n\u001b[0;32m      5\u001b[0m \u001b[1;32mfrom\u001b[0m \u001b[1;33m.\u001b[0m \u001b[1;32mimport\u001b[0m \u001b[0mio_utils\u001b[0m\u001b[1;33m\u001b[0m\u001b[0m\n\u001b[1;32m----> 6\u001b[1;33m \u001b[1;32mfrom\u001b[0m \u001b[1;33m.\u001b[0m \u001b[1;32mimport\u001b[0m \u001b[0mconv_utils\u001b[0m\u001b[1;33m\u001b[0m\u001b[0m\n\u001b[0m\u001b[0;32m      7\u001b[0m \u001b[1;33m\u001b[0m\u001b[0m\n\u001b[0;32m      8\u001b[0m \u001b[1;31m# Globally-importable utils.\u001b[0m\u001b[1;33m\u001b[0m\u001b[1;33m\u001b[0m\u001b[0m\n",
      "\u001b[1;32mD:\\Anaconda3\\lib\\site-packages\\keras\\utils\\conv_utils.py\u001b[0m in \u001b[0;36m<module>\u001b[1;34m()\u001b[0m\n\u001b[0;32m      7\u001b[0m \u001b[1;32mfrom\u001b[0m \u001b[0msix\u001b[0m\u001b[1;33m.\u001b[0m\u001b[0mmoves\u001b[0m \u001b[1;32mimport\u001b[0m \u001b[0mrange\u001b[0m\u001b[1;33m\u001b[0m\u001b[0m\n\u001b[0;32m      8\u001b[0m \u001b[1;32mimport\u001b[0m \u001b[0mnumpy\u001b[0m \u001b[1;32mas\u001b[0m \u001b[0mnp\u001b[0m\u001b[1;33m\u001b[0m\u001b[0m\n\u001b[1;32m----> 9\u001b[1;33m \u001b[1;32mfrom\u001b[0m \u001b[1;33m.\u001b[0m\u001b[1;33m.\u001b[0m \u001b[1;32mimport\u001b[0m \u001b[0mbackend\u001b[0m \u001b[1;32mas\u001b[0m \u001b[0mK\u001b[0m\u001b[1;33m\u001b[0m\u001b[0m\n\u001b[0m\u001b[0;32m     10\u001b[0m \u001b[1;33m\u001b[0m\u001b[0m\n\u001b[0;32m     11\u001b[0m \u001b[1;33m\u001b[0m\u001b[0m\n",
      "\u001b[1;32mD:\\Anaconda3\\lib\\site-packages\\keras\\backend\\__init__.py\u001b[0m in \u001b[0;36m<module>\u001b[1;34m()\u001b[0m\n\u001b[0;32m     87\u001b[0m \u001b[1;32melif\u001b[0m \u001b[0m_BACKEND\u001b[0m \u001b[1;33m==\u001b[0m \u001b[1;34m'tensorflow'\u001b[0m\u001b[1;33m:\u001b[0m\u001b[1;33m\u001b[0m\u001b[0m\n\u001b[0;32m     88\u001b[0m     \u001b[0msys\u001b[0m\u001b[1;33m.\u001b[0m\u001b[0mstderr\u001b[0m\u001b[1;33m.\u001b[0m\u001b[0mwrite\u001b[0m\u001b[1;33m(\u001b[0m\u001b[1;34m'Using TensorFlow backend.\\n'\u001b[0m\u001b[1;33m)\u001b[0m\u001b[1;33m\u001b[0m\u001b[0m\n\u001b[1;32m---> 89\u001b[1;33m     \u001b[1;32mfrom\u001b[0m \u001b[1;33m.\u001b[0m\u001b[0mtensorflow_backend\u001b[0m \u001b[1;32mimport\u001b[0m \u001b[1;33m*\u001b[0m\u001b[1;33m\u001b[0m\u001b[0m\n\u001b[0m\u001b[0;32m     90\u001b[0m \u001b[1;32melse\u001b[0m\u001b[1;33m:\u001b[0m\u001b[1;33m\u001b[0m\u001b[0m\n\u001b[0;32m     91\u001b[0m     \u001b[1;31m# Try and load external backend.\u001b[0m\u001b[1;33m\u001b[0m\u001b[1;33m\u001b[0m\u001b[0m\n",
      "\u001b[1;32mD:\\Anaconda3\\lib\\site-packages\\keras\\backend\\tensorflow_backend.py\u001b[0m in \u001b[0;36m<module>\u001b[1;34m()\u001b[0m\n\u001b[0;32m      3\u001b[0m \u001b[1;32mfrom\u001b[0m \u001b[0m__future__\u001b[0m \u001b[1;32mimport\u001b[0m \u001b[0mprint_function\u001b[0m\u001b[1;33m\u001b[0m\u001b[0m\n\u001b[0;32m      4\u001b[0m \u001b[1;33m\u001b[0m\u001b[0m\n\u001b[1;32m----> 5\u001b[1;33m \u001b[1;32mimport\u001b[0m \u001b[0mtensorflow\u001b[0m \u001b[1;32mas\u001b[0m \u001b[0mtf\u001b[0m\u001b[1;33m\u001b[0m\u001b[0m\n\u001b[0m\u001b[0;32m      6\u001b[0m \u001b[1;32mfrom\u001b[0m \u001b[0mtensorflow\u001b[0m\u001b[1;33m.\u001b[0m\u001b[0mpython\u001b[0m\u001b[1;33m.\u001b[0m\u001b[0mframework\u001b[0m \u001b[1;32mimport\u001b[0m \u001b[0mops\u001b[0m \u001b[1;32mas\u001b[0m \u001b[0mtf_ops\u001b[0m\u001b[1;33m\u001b[0m\u001b[0m\n\u001b[0;32m      7\u001b[0m \u001b[1;32mfrom\u001b[0m \u001b[0mtensorflow\u001b[0m\u001b[1;33m.\u001b[0m\u001b[0mpython\u001b[0m\u001b[1;33m.\u001b[0m\u001b[0mtraining\u001b[0m \u001b[1;32mimport\u001b[0m \u001b[0mmoving_averages\u001b[0m\u001b[1;33m\u001b[0m\u001b[0m\n",
      "\u001b[1;31mModuleNotFoundError\u001b[0m: No module named 'tensorflow'"
     ]
    }
   ],
   "source": [
    "from keras.preprocessing.image import load_img, img_to_array\n",
    "\n",
    "npix = 224\n",
    "target_size = (npix,npix,3)\n",
    "\n",
    "def get_random_pictures(n_pictures):\n",
    "    count = 1\n",
    "    fig = plt.figure(figsize=(10,20))\n",
    "    for jpgfnm in uni_filenames[np.random.randint(0,uni_filenames.shape[0], size=n_pictures)]:\n",
    "        filename = dir_Flickr_jpg + '/' + jpgfnm\n",
    "        captions = list(df_txt[\"caption\"].loc[df_txt[\"filename\"]==jpgfnm].values)\n",
    "        image_load = load_img(filename, target_size=target_size)\n",
    "        \n",
    "        ax = fig.add_subplot(n_pictures,2,count,xticks=[],yticks=[])\n",
    "        ax.imshow(image_load)\n",
    "        count += 1\n",
    "\n",
    "        ax = fig.add_subplot(n_pictures,2,count)\n",
    "        plt.axis('off')\n",
    "        ax.plot()\n",
    "        ax.set_xlim(0,1)\n",
    "        ax.set_ylim(0,len(captions))\n",
    "        for i, caption in enumerate(captions):\n",
    "            ax.text(0,i,caption,fontsize=20)\n",
    "        count += 1\n",
    "    plt.show()\n",
    "    \n",
    "get_random_pictures(3)"
   ]
  },
  {
   "cell_type": "markdown",
   "metadata": {},
   "source": [
    "# Sentence Processing "
   ]
  },
  {
   "cell_type": "code",
   "execution_count": 4,
   "metadata": {
    "collapsed": true
   },
   "outputs": [],
   "source": [
    "def get_sentence_embedding(sentence, model):\n",
    "    embeddings = np.array([model.word_vec(word) for word in sentence.split() if word in model.wv.vocab.keys()])\n",
    "    if embeddings.ndim == 2:\n",
    "        return np.sum(embeddings.T,axis=1)\n",
    "    elif embeddings.ndim == 1:\n",
    "        return embeddings"
   ]
  },
  {
   "cell_type": "code",
   "execution_count": 5,
   "metadata": {
    "collapsed": true
   },
   "outputs": [],
   "source": [
    "text_model = gensim.models.KeyedVectors.load_word2vec_format('./GoogleNews-vectors-negative300-SLIM.bin', binary=True)  "
   ]
  },
  {
   "cell_type": "code",
   "execution_count": 6,
   "metadata": {},
   "outputs": [
    {
     "data": {
      "text/plain": [
       "(300,)"
      ]
     },
     "execution_count": 6,
     "metadata": {},
     "output_type": "execute_result"
    }
   ],
   "source": [
    "get_sentence_embedding('This is a test', text_model).shape"
   ]
  },
  {
   "cell_type": "markdown",
   "metadata": {},
   "source": [
    "# Image Processing "
   ]
  },
  {
   "cell_type": "code",
   "execution_count": 7,
   "metadata": {
    "collapsed": true
   },
   "outputs": [],
   "source": [
    "image_model = models.resnet18(pretrained=True)"
   ]
  },
  {
   "cell_type": "code",
   "execution_count": 8,
   "metadata": {
    "collapsed": true
   },
   "outputs": [],
   "source": [
    "device = 'cpu' #torch.device(\"cuda:0\" if torch.cuda.is_available() else \"cpu\")\n",
    "for param in image_model.parameters():\n",
    "    param.requires_grad = False\n",
    "image_model = image_model.to(device)"
   ]
  },
  {
   "cell_type": "code",
   "execution_count": 13,
   "metadata": {},
   "outputs": [],
   "source": [
    "plt.ion()   # interactive mode\n",
    "\n",
    "data_transforms = {\n",
    "    'train': transforms.Compose([\n",
    "        transforms.Resize(256),\n",
    "        transforms.CenterCrop(224),\n",
    "        transforms.ToTensor(),\n",
    "        transforms.Normalize([0.485, 0.456, 0.406], [0.229, 0.224, 0.225])\n",
    "    ]),\n",
    "    'test': transforms.Compose([\n",
    "        transforms.Resize(256),\n",
    "        transforms.CenterCrop(224),\n",
    "        transforms.ToTensor(),\n",
    "        transforms.Normalize([0.485, 0.456, 0.406], [0.229, 0.224, 0.225])\n",
    "    ]),\n",
    "}\n",
    "\n",
    "data_dir = './Data/Circle_Dataset/'\n",
    "\n",
    "image_datasets = {x: datasets.ImageFolder(os.path.join(data_dir, x),\n",
    "                                          data_transforms[x])\n",
    "                  for x in ['train', 'test']}\n",
    "\n",
    "\n",
    "def classes_generation(dataset):\n",
    "    \n",
    "    if dataset == 'train':\n",
    "        image_datasets[dataset].classes = uni_filenames_train\n",
    "    elif dataset == 'test':\n",
    "        image_datasets[dataset].classes = uni_filenames_test\n",
    "        \n",
    "    class_names = image_datasets[dataset].classes\n",
    "  \n",
    "    image_datasets[dataset].class_to_idx = {image_datasets[dataset].classes[i]: i for i in range(len(image_datasets[dataset].classes))}\n",
    "\n",
    "    for i, (image, class_name) in enumerate(image_datasets[dataset].imgs):\n",
    "        filename  = image_datasets[dataset].class_to_idx[image.replace('./Data/Circle_Dataset/'+dataset+'\\\\images\\\\','')]\n",
    "        if dataset == 'train':\n",
    "            image_datasets[dataset].imgs[i] = (image, list(df_txt_train[df_txt_train[\"filename\"]==class_names[filename]]['caption'].values))\n",
    "        elif dataset == 'test':\n",
    "            image_datasets[dataset].imgs[i] = (image, list(df_txt_test[df_txt_test[\"filename\"]==class_names[filename]]['caption'].values))\n",
    "\n",
    "classes_generation('train')\n",
    "classes_generation('test')\n",
    "\n",
    "\n",
    "\n",
    "dataloaders = {x: torch.utils.data.DataLoader(image_datasets[x], batch_size=1,\n",
    "                                             shuffle=True, num_workers=4)\n",
    "              for x in ['train', 'test']}\n",
    "dataset_sizes = {x: len(image_datasets[x]) for x in ['train', 'test']}"
   ]
  },
  {
   "cell_type": "code",
   "execution_count": 24,
   "metadata": {},
   "outputs": [
    {
     "data": {
      "image/png": "[encoded data removed]",
      "text/plain": [
       "<matplotlib.figure.Figure at 0x26aa0266470>"
      ]
     },
     "metadata": {},
     "output_type": "display_data"
    }
   ],
   "source": [
    "def imshow(inp, title=None):\n",
    "    \"\"\"Imshow for Tensor.\"\"\"\n",
    "    inp = inp.numpy().transpose((1, 2, 0))\n",
    "    mean = np.array([0.485, 0.456, 0.406])\n",
    "    std = np.array([0.229, 0.224, 0.225])\n",
    "    inp = std * inp + mean\n",
    "    inp = np.clip(inp, 0, 1)\n",
    "    plt.imshow(inp)\n",
    "    if title is not None:\n",
    "        plt.title(title)\n",
    "    plt.pause(0.001)  # pause a bit so that plots are updated\n",
    "\n",
    "\n",
    "# Get a batch of training data\n",
    "inputs, classes = next(iter(dataloaders['train']))\n",
    "classes = [x[0] for x in classes]\n",
    "\n",
    "# Make a grid from batch\n",
    "out = torchvision.utils.make_grid(inputs)\n",
    "imshow(out, title=classes)\n"
   ]
  },
  {
   "cell_type": "code",
   "execution_count": 25,
   "metadata": {
    "collapsed": true
   },
   "outputs": [],
   "source": [
    "def generate_representations(dataset):\n",
    "    if dataset == 'train':\n",
    "        images= torch.zeros([df_txt_train.shape[0], 1000], dtype=torch.float)\n",
    "        captions = torch.zeros([df_txt_train.shape[0], 300], dtype=torch.float)\n",
    "    elif dataset == 'test':\n",
    "        images= torch.zeros([df_txt_test.shape[0], 1000], dtype=torch.float)\n",
    "        captions = torch.zeros([df_txt_test.shape[0], 300], dtype=torch.float)\n",
    "        \n",
    "    for i, (image, labels) in enumerate(dataloaders[dataset]):\n",
    "        labels = [x[0] for x in labels]\n",
    "        im = image_model(image)\n",
    "        for j in range(len(labels)):\n",
    "            capt = get_sentence_embedding(labels[j], text_model)\n",
    "            if capt.size == 300:\n",
    "                # a modifier pour ne pas sauvegarder 5x la meme image\n",
    "                images[i+j] = im\n",
    "                captions[i+j] = torch.from_numpy(capt)\n",
    "    return images, captions\n",
    "\n",
    "images_train, captions_train = generate_representations('train')\n",
    "images_test, captions_test = generate_representations('test')"
   ]
  },
  {
   "cell_type": "markdown",
   "metadata": {},
   "source": [
    "# Sparse Autoencoder\n"
   ]
  },
  {
   "cell_type": "code",
   "execution_count": 221,
   "metadata": {
    "collapsed": true
   },
   "outputs": [],
   "source": [
    "import torch.nn as nn\n",
    "import torch.nn.functional as F\n",
    "\n",
    "class SparseAutoencoder(nn.Module):\n",
    "    def __init__(self, n_inp, n_hidden):\n",
    "        super(SparseAutoencoder, self).__init__()\n",
    "        self.encoder = nn.Linear(n_inp, n_hidden)\n",
    "        self.decoder = nn.Linear(n_hidden, n_inp)\n",
    "\n",
    "    def forward(self, x):\n",
    "        encoded = F.relu(self.encoder(x)) # relu or sigmoid\n",
    "        decoded = F.sigmoid(self.decoder(encoded))\n",
    "        return encoded, decoded\n",
    "    "
   ]
  },
  {
   "cell_type": "code",
   "execution_count": 222,
   "metadata": {
    "collapsed": true
   },
   "outputs": [],
   "source": [
    "# Model parameters\n",
    "# BATCH_SIZE = 5 a intégrer\n",
    "N_INP = 1000 + 300 # Image representation + Word2Vec\n",
    "N_HIDDEN = 2000\n",
    "N_EPOCHS = 5\n",
    "LEARNING_RATE = 1e-3\n",
    "\n",
    "use_kl = False\n",
    "\n",
    "# If using KL-divergence\n",
    "BETA = 3 # Importance of the KL-divergence penalty term\n",
    "RHO = 0.01 # Target sparsity\n",
    "\n",
    "if use_kl :\n",
    "    rho = torch.FloatTensor([RHO for _ in range(N_HIDDEN)]).unsqueeze(0)\n",
    "\n",
    "# If using L1 regularization\n",
    "LAMBDA = 1e-8 # L1 penalty term"
   ]
  },
  {
   "cell_type": "code",
   "execution_count": 223,
   "metadata": {
    "collapsed": true
   },
   "outputs": [],
   "source": [
    "auto_encoder = SparseAutoencoder(N_INP, N_HIDDEN)\n",
    "optimizer = optim.Adam(auto_encoder.parameters(), lr=LEARNING_RATE)"
   ]
  },
  {
   "cell_type": "code",
   "execution_count": 224,
   "metadata": {
    "collapsed": true
   },
   "outputs": [],
   "source": [
    "def kl_divergence(p, q):\n",
    "    '''\n",
    "    args:\n",
    "        2 tensors `p` and `q`\n",
    "    returns:\n",
    "        kl divergence between the softmax of `p` and `q`\n",
    "    '''\n",
    "    p = F.softmax(p)\n",
    "    q = F.softmax(q)\n",
    "\n",
    "    s1 = torch.sum(p * torch.log(p / q))\n",
    "    s2 = torch.sum((1 - p) * torch.log((1 - p) / (1 - q)))\n",
    "\n",
    "    return s1 + s2"
   ]
  },
  {
   "cell_type": "code",
   "execution_count": 225,
   "metadata": {
    "collapsed": true
   },
   "outputs": [],
   "source": [
    "def l1_penalty(var):\n",
    "    return torch.abs(var).sum()"
   ]
  },
  {
   "cell_type": "code",
   "execution_count": 226,
   "metadata": {},
   "outputs": [
    {
     "name": "stdout",
     "output_type": "stream",
     "text": [
      "torch.Size([2000, 1300])\n",
      "Epoch: [  1], Loss: 0.0298\n",
      "Reconstruction mean squared error :  tensor(0.0250, grad_fn=<MseLossBackward>)\n",
      "Average sparsity :  tensor(239.1169, grad_fn=<DivBackward0>)\n",
      "Epoch: [  2], Loss: 0.0163\n",
      "Reconstruction mean squared error :  tensor(0.0129, grad_fn=<MseLossBackward>)\n",
      "Average sparsity :  tensor(168.2714, grad_fn=<DivBackward0>)\n",
      "Epoch: [  3], Loss: 0.0115\n",
      "Reconstruction mean squared error :  tensor(0.0056, grad_fn=<MseLossBackward>)\n",
      "Average sparsity :  tensor(293.5846, grad_fn=<DivBackward0>)\n",
      "Epoch: [  4], Loss: 0.0086\n",
      "Reconstruction mean squared error :  tensor(0.0027, grad_fn=<MseLossBackward>)\n",
      "Average sparsity :  tensor(295.2657, grad_fn=<DivBackward0>)\n",
      "Epoch: [  5], Loss: 0.0065\n",
      "Reconstruction mean squared error :  tensor(0.0016, grad_fn=<MseLossBackward>)\n",
      "Average sparsity :  tensor(243.7818, grad_fn=<DivBackward0>)\n"
     ]
    }
   ],
   "source": [
    "dataset = torch.cat((images_train, captions_train), 1)\n",
    "\n",
    "print(dataset.shape)\n",
    "\n",
    "def normalize(dataset):\n",
    "    '''Normalization between 0 and 1'''\n",
    "    for i, row in enumerate(dataset):\n",
    "        min = torch.min(row)\n",
    "        max = torch.max(row)\n",
    "    \n",
    "        dataset[i] = (row - min)/(max - min)\n",
    "    return dataset\n",
    "\n",
    "dataset = normalize(dataset)\n",
    "\n",
    "\n",
    "for epoch in range(N_EPOCHS):\n",
    "\n",
    "    encoded, decoded = auto_encoder(dataset)\n",
    "\n",
    "    mse_loss = F.mse_loss(decoded, dataset)\n",
    "\n",
    "    rho_hat = torch.sum(encoded, dim=0, keepdim=True)\n",
    "    \n",
    "    if use_kl:\n",
    "        sparsity_penalty = BETA * kl_divergence(rho, rho_hat)\n",
    "        loss = mse_loss + sparsity_penalty\n",
    "    else:\n",
    "        l1_reg = LAMBDA * l1_penalty(encoded)\n",
    "        loss = mse_loss + l1_reg\n",
    "    \n",
    "    optimizer.zero_grad() # Clears the gradient\n",
    "    loss.backward() # Computes gradient\n",
    "    optimizer.step() # Update rule\n",
    "\n",
    "    print(\"Epoch: [%3d], Loss: %.4f\" %(epoch + 1, loss.data))\n",
    "    print(\"Reconstruction mean squared error : \", mse_loss)\n",
    "    print(\"Average sparsity : \",  rho_hat.sum()/N_HIDDEN)\n"
   ]
  },
  {
   "cell_type": "code",
   "execution_count": 227,
   "metadata": {
    "scrolled": true
   },
   "outputs": [
    {
     "name": "stdout",
     "output_type": "stream",
     "text": [
      "208 elements different from 0\n",
      "Reconstruction mean squared error on test :  tensor(0.0025, grad_fn=<MseLossBackward>)\n",
      "tensor([[0.0565, 0.0396, 0.0142,  ..., 0.0426, 0.0302, 0.0419],\n",
      "        [0.0418, 0.0330, 0.0093,  ..., 0.0350, 0.0262, 0.0400],\n",
      "        [0.0339, 0.0240, 0.0031,  ..., 0.0094, 0.0069, 0.0302],\n",
      "        ...,\n",
      "        [0.0533, 0.0389, 0.0085,  ..., 0.0224, 0.0153, 0.0432],\n",
      "        [0.0526, 0.0345, 0.0132,  ..., 0.0263, 0.0262, 0.0341],\n",
      "        [0.0172, 0.0067, 0.0287,  ..., 0.0138, 0.0162, 0.0221]],\n",
      "       grad_fn=<AbsBackward>)\n",
      "tensor(10021.3428, grad_fn=<SumBackward0>)\n"
     ]
    }
   ],
   "source": [
    "# Test\n",
    "dataset_test = torch.cat((images_test, captions_test), 1)\n",
    "\n",
    "dataset_test = normalize(dataset_test)\n",
    "\n",
    "encoded, decoded = auto_encoder(dataset_test)\n",
    "mse_loss_test = F.mse_loss(decoded, dataset_test)\n",
    "\n",
    "i=0\n",
    "for e in encoded[0]:\n",
    "    if e > 1e-3:\n",
    "        i+=1\n",
    "print(i, \"elements different from 0\")\n",
    "print(\"Reconstruction mean squared error on test : \", mse_loss_test)\n",
    "print(torch.abs(dataset_test-decoded))\n",
    "print(torch.sum(torch.abs(dataset_test-decoded)))\n",
    "# divide by norm for percentage"
   ]
  },
  {
   "cell_type": "markdown",
   "metadata": {},
   "source": [
    "# Autoassociative memory - Hopfield Network"
   ]
  },
  {
   "cell_type": "code",
   "execution_count": 54,
   "metadata": {
    "collapsed": true
   },
   "outputs": [],
   "source": [
    "# Get autoencoder's hidden representations\n",
    "x = torch.cat((images_train, captions_train), 1)\n",
    "encoded, _ = auto_encoder(x)"
   ]
  },
  {
   "cell_type": "code",
   "execution_count": 55,
   "metadata": {
    "collapsed": true
   },
   "outputs": [],
   "source": [
    "def calculate_weights(learning_patterns):\n",
    "    \n",
    "    w = (np.transpose(learning_patterns) @ learning_patterns) / learning_patterns.shape[0]\n",
    "    np.fill_diagonal(w, 0)\n",
    "    \n",
    "    return w"
   ]
  },
  {
   "cell_type": "code",
   "execution_count": 56,
   "metadata": {
    "collapsed": true
   },
   "outputs": [],
   "source": [
    "def energy(x, w):\n",
    "    \n",
    "    energy = 0\n",
    "    for i in range(w.shape[0]):\n",
    "        for j in range(w.shape[1]):\n",
    "            energy -= w[i, j]*x[i]*x[j]\n",
    "            \n",
    "    return energy"
   ]
  },
  {
   "cell_type": "code",
   "execution_count": 57,
   "metadata": {
    "collapsed": true
   },
   "outputs": [],
   "source": [
    "def update_rule_little_model(x, w):\n",
    "\n",
    "    x = x @ w\n",
    "    #x = np.where(x>=0, 1, -1)\n",
    "    #x = np.tanh(x)\n",
    "\n",
    "    return x"
   ]
  },
  {
   "cell_type": "code",
   "execution_count": 58,
   "metadata": {
    "collapsed": true
   },
   "outputs": [],
   "source": [
    "def recall(x, w):\n",
    "    \n",
    "    print(\"Initial energy : \", energy(x, w))\n",
    "    x_new = update_rule_little_model(x, w)\n",
    "    i = 0 # To stop if no convergence\n",
    "    print(\"Energy : \", energy(x_new, w))\n",
    "    while(np.array_equal(x_new, x) == False and i<10):\n",
    "        x = x_new\n",
    "        x_new = update_rule_little_model(x, w)\n",
    "        print(\"Energy : \", energy(x_new, w))\n",
    "        i+=1\n",
    "        \n",
    "    return x_new, i"
   ]
  },
  {
   "cell_type": "code",
   "execution_count": 59,
   "metadata": {},
   "outputs": [
    {
     "name": "stdout",
     "output_type": "stream",
     "text": [
      "[[0.        0.        0.        ... 0.        0.        0.       ]\n",
      " [0.        0.        0.        ... 0.        0.        0.       ]\n",
      " [0.        2.2600746 0.        ... 0.        0.        0.       ]\n",
      " [0.        0.3181247 0.        ... 0.        0.        0.       ]\n",
      " [0.        0.        0.        ... 0.        0.        0.       ]]\n",
      "Initial energy :  -8550.918475982548\n",
      "Energy :  -51848276.32394375\n",
      "Energy :  -375481217982.0229\n",
      "Energy :  -2753086955377024.0\n",
      "Energy :  -2.020736350760598e+19\n",
      "Energy :  -1.4833648162475466e+23\n",
      "Energy :  -1.0889102808537072e+27\n",
      "Energy :  -7.993498971463502e+30\n",
      "Energy :  -5.8678885952541e+34\n",
      "Energy :  -4.307515011647521e+38\n",
      "Energy :  -inf\n",
      "Energy :  -inf\n",
      "(1800,)\n",
      "[0.        2.2600746 0.        ... 0.        0.        0.       ]\n",
      "[0.000000e+00 8.860412e+20 0.000000e+00 ... 0.000000e+00 0.000000e+00\n",
      " 0.000000e+00]\n",
      "1.7482015e+23\n"
     ]
    }
   ],
   "source": [
    "encoded = encoded.detach().numpy()\n",
    "print(encoded)\n",
    "w = calculate_weights(learning_patterns=encoded)\n",
    "x, _ = recall(encoded[2,:], w)\n",
    "print(x.shape)\n",
    "print(encoded[2,:])\n",
    "print(x)\n",
    "print(np.sum(np.abs(x-encoded[2,:])))"
   ]
  }
 ],
 "metadata": {
  "kernelspec": {
   "display_name": "Python 3",
   "language": "python",
   "name": "python3"
  },
  "language_info": {
   "codemirror_mode": {
    "name": "ipython",
    "version": 3
   },
   "file_extension": ".py",
   "mimetype": "text/x-python",
   "name": "python",
   "nbconvert_exporter": "python",
   "pygments_lexer": "ipython3",
   "version": "3.6.2"
  }
 },
 "nbformat": 4,
 "nbformat_minor": 2
}
