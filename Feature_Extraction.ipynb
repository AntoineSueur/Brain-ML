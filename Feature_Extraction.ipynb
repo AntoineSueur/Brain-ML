{
 "cells": [
  {
   "cell_type": "markdown",
   "metadata": {},
   "source": [
    "# TODO\n",
    "- Traiter le cas de mots inconnus pour les word embeddings\n",
    "- Optimiser dataloader\n",
    "- Trouver autre dataset\n",
    "- calculer sparsité\n",
    "- Comparer plusieurs sparsité / autoencodeurs under/overcomplete/sans autoencodeur\n",
    "- Comparer avec approche classique kmeans \n",
    "- Generer dataset syntethique couleur forme unique position variable"
   ]
  },
  {
   "cell_type": "code",
   "execution_count": 1,
   "metadata": {
    "scrolled": true
   },
   "outputs": [
    {
     "name": "stderr",
     "output_type": "stream",
     "text": [
      "C:\\Users\\Pierre\\Anaconda3\\lib\\site-packages\\gensim\\utils.py:1212: UserWarning: detected Windows; aliasing chunkize to chunkize_serial\n",
      "  warnings.warn(\"detected Windows; aliasing chunkize to chunkize_serial\")\n"
     ]
    }
   ],
   "source": [
    "from __future__ import print_function, division\n",
    "\n",
    "import gensim\n",
    "import numpy as np\n",
    "import pandas as pd\n",
    "import sys, time, os, warnings \n",
    "from collections import Counter \n",
    "import matplotlib.pyplot as plt\n",
    "warnings.filterwarnings(\"ignore\")\n",
    "\n",
    "import torchvision.models as models\n",
    "\n",
    "import torch\n",
    "import torch.nn as nn\n",
    "import torch.optim as optim\n",
    "from torch.optim import lr_scheduler\n",
    "import numpy as np\n",
    "import torchvision\n",
    "from torchvision import datasets, models, transforms\n",
    "from skimage import io\n",
    "import matplotlib.pyplot as plt\n",
    "import time\n",
    "import os\n",
    "import copy\n",
    "#import cv2\n",
    "# pip3 install http://download.pytorch.org/whl/cu90/torch-0.4.1-cp36-cp36m-win_amd64.whl\n",
    "# pip3 install torchvision\n"
   ]
  },
  {
   "cell_type": "markdown",
   "metadata": {},
   "source": [
    "# Load Data"
   ]
  },
  {
   "cell_type": "code",
   "execution_count": 2,
   "metadata": {},
   "outputs": [
    {
     "name": "stdout",
     "output_type": "stream",
     "text": [
      "The number of jpg files in train dataset: 2000\n",
      "The number of jpg files in test dataset: 200\n"
     ]
    }
   ],
   "source": [
    "## The location of the train images\n",
    "dir_train_jpg = \"./Data/Circle_Dataset/train/images/\"\n",
    "## The location of the test images\n",
    "dir_test_jpg = \"./Data/Circle_Dataset/test/images/\"\n",
    "## The location of the train caption file\n",
    "dir_text_train = \"./data/Circle_text/circle_annotations_train.txt\"\n",
    "## The location of the test caption file\n",
    "dir_text_test = \"./data/Circle_text/circle_annotations_test.txt\"\n",
    "\n",
    "\n",
    "jpgs = os.listdir(dir_train_jpg)\n",
    "print(\"The number of jpg files in train dataset: {}\".format(len(jpgs)))\n",
    "jpgs = os.listdir(dir_test_jpg)\n",
    "print(\"The number of jpg files in test dataset: {}\".format(len(jpgs)))"
   ]
  },
  {
   "cell_type": "code",
   "execution_count": 3,
   "metadata": {},
   "outputs": [
    {
     "name": "stdout",
     "output_type": "stream",
     "text": [
      "The number of unique file names : 2000\n",
      "The distribution of the number of captions for each image:\n",
      "The number of unique file names : 200\n",
      "The distribution of the number of captions for each image:\n"
     ]
    }
   ],
   "source": [
    "## read in the Flickr caption data\n",
    "def annotations_reading(dir_text):\n",
    "    file = open(dir_text,'r')\n",
    "    text = file.read()\n",
    "    file.close()\n",
    "\n",
    "\n",
    "    datatxt = []\n",
    "    for line in text.split('\\n'):\n",
    "        col = line.split('\\t')\n",
    "        if len(col) == 1:\n",
    "            continue\n",
    "        w = col[0].split(\"#\")\n",
    "        datatxt.append(w + [col[1].lower()])\n",
    "\n",
    "\n",
    "    df_txt = pd.DataFrame(datatxt,columns=[\"filename\",\"index\",\"caption\"])\n",
    "\n",
    "    uni_filenames = np.unique(df_txt.filename.values)\n",
    "    print(\"The number of unique file names : {}\".format(len(uni_filenames)))\n",
    "    print(\"The distribution of the number of captions for each image:\")\n",
    "    Counter(Counter(df_txt.filename.values).values())\n",
    "    \n",
    "    return df_txt, uni_filenames\n",
    "\n",
    "df_txt_train, uni_filenames_train = annotations_reading(dir_text_train)\n",
    "df_txt_test, uni_filenames_test = annotations_reading(dir_text_test)"
   ]
  },
  {
   "cell_type": "code",
   "execution_count": 4,
   "metadata": {
    "scrolled": true
   },
   "outputs": [
    {
     "name": "stderr",
     "output_type": "stream",
     "text": [
      "Using TensorFlow backend.\n"
     ]
    },
    {
     "ename": "ModuleNotFoundError",
     "evalue": "No module named 'tensorflow'",
     "output_type": "error",
     "traceback": [
      "\u001b[1;31m---------------------------------------------------------------------------\u001b[0m",
      "\u001b[1;31mModuleNotFoundError\u001b[0m                       Traceback (most recent call last)",
      "\u001b[1;32m<ipython-input-4-7aad200747a2>\u001b[0m in \u001b[0;36m<module>\u001b[1;34m()\u001b[0m\n\u001b[1;32m----> 1\u001b[1;33m \u001b[1;32mfrom\u001b[0m \u001b[0mkeras\u001b[0m\u001b[1;33m.\u001b[0m\u001b[0mpreprocessing\u001b[0m\u001b[1;33m.\u001b[0m\u001b[0mimage\u001b[0m \u001b[1;32mimport\u001b[0m \u001b[0mload_img\u001b[0m\u001b[1;33m,\u001b[0m \u001b[0mimg_to_array\u001b[0m\u001b[1;33m\u001b[0m\u001b[0m\n\u001b[0m\u001b[0;32m      2\u001b[0m \u001b[1;33m\u001b[0m\u001b[0m\n\u001b[0;32m      3\u001b[0m \u001b[0mnpix\u001b[0m \u001b[1;33m=\u001b[0m \u001b[1;36m224\u001b[0m\u001b[1;33m\u001b[0m\u001b[0m\n\u001b[0;32m      4\u001b[0m \u001b[0mtarget_size\u001b[0m \u001b[1;33m=\u001b[0m \u001b[1;33m(\u001b[0m\u001b[0mnpix\u001b[0m\u001b[1;33m,\u001b[0m\u001b[0mnpix\u001b[0m\u001b[1;33m,\u001b[0m\u001b[1;36m3\u001b[0m\u001b[1;33m)\u001b[0m\u001b[1;33m\u001b[0m\u001b[0m\n\u001b[0;32m      5\u001b[0m \u001b[1;33m\u001b[0m\u001b[0m\n",
      "\u001b[1;32mD:\\Anaconda3\\lib\\site-packages\\keras\\__init__.py\u001b[0m in \u001b[0;36m<module>\u001b[1;34m()\u001b[0m\n\u001b[0;32m      1\u001b[0m \u001b[1;32mfrom\u001b[0m \u001b[0m__future__\u001b[0m \u001b[1;32mimport\u001b[0m \u001b[0mabsolute_import\u001b[0m\u001b[1;33m\u001b[0m\u001b[0m\n\u001b[0;32m      2\u001b[0m \u001b[1;33m\u001b[0m\u001b[0m\n\u001b[1;32m----> 3\u001b[1;33m \u001b[1;32mfrom\u001b[0m \u001b[1;33m.\u001b[0m \u001b[1;32mimport\u001b[0m \u001b[0mutils\u001b[0m\u001b[1;33m\u001b[0m\u001b[0m\n\u001b[0m\u001b[0;32m      4\u001b[0m \u001b[1;32mfrom\u001b[0m \u001b[1;33m.\u001b[0m \u001b[1;32mimport\u001b[0m \u001b[0mactivations\u001b[0m\u001b[1;33m\u001b[0m\u001b[0m\n\u001b[0;32m      5\u001b[0m \u001b[1;32mfrom\u001b[0m \u001b[1;33m.\u001b[0m \u001b[1;32mimport\u001b[0m \u001b[0mapplications\u001b[0m\u001b[1;33m\u001b[0m\u001b[0m\n",
      "\u001b[1;32mD:\\Anaconda3\\lib\\site-packages\\keras\\utils\\__init__.py\u001b[0m in \u001b[0;36m<module>\u001b[1;34m()\u001b[0m\n\u001b[0;32m      4\u001b[0m \u001b[1;32mfrom\u001b[0m \u001b[1;33m.\u001b[0m \u001b[1;32mimport\u001b[0m \u001b[0mdata_utils\u001b[0m\u001b[1;33m\u001b[0m\u001b[0m\n\u001b[0;32m      5\u001b[0m \u001b[1;32mfrom\u001b[0m \u001b[1;33m.\u001b[0m \u001b[1;32mimport\u001b[0m \u001b[0mio_utils\u001b[0m\u001b[1;33m\u001b[0m\u001b[0m\n\u001b[1;32m----> 6\u001b[1;33m \u001b[1;32mfrom\u001b[0m \u001b[1;33m.\u001b[0m \u001b[1;32mimport\u001b[0m \u001b[0mconv_utils\u001b[0m\u001b[1;33m\u001b[0m\u001b[0m\n\u001b[0m\u001b[0;32m      7\u001b[0m \u001b[1;33m\u001b[0m\u001b[0m\n\u001b[0;32m      8\u001b[0m \u001b[1;31m# Globally-importable utils.\u001b[0m\u001b[1;33m\u001b[0m\u001b[1;33m\u001b[0m\u001b[0m\n",
      "\u001b[1;32mD:\\Anaconda3\\lib\\site-packages\\keras\\utils\\conv_utils.py\u001b[0m in \u001b[0;36m<module>\u001b[1;34m()\u001b[0m\n\u001b[0;32m      7\u001b[0m \u001b[1;32mfrom\u001b[0m \u001b[0msix\u001b[0m\u001b[1;33m.\u001b[0m\u001b[0mmoves\u001b[0m \u001b[1;32mimport\u001b[0m \u001b[0mrange\u001b[0m\u001b[1;33m\u001b[0m\u001b[0m\n\u001b[0;32m      8\u001b[0m \u001b[1;32mimport\u001b[0m \u001b[0mnumpy\u001b[0m \u001b[1;32mas\u001b[0m \u001b[0mnp\u001b[0m\u001b[1;33m\u001b[0m\u001b[0m\n\u001b[1;32m----> 9\u001b[1;33m \u001b[1;32mfrom\u001b[0m \u001b[1;33m.\u001b[0m\u001b[1;33m.\u001b[0m \u001b[1;32mimport\u001b[0m \u001b[0mbackend\u001b[0m \u001b[1;32mas\u001b[0m \u001b[0mK\u001b[0m\u001b[1;33m\u001b[0m\u001b[0m\n\u001b[0m\u001b[0;32m     10\u001b[0m \u001b[1;33m\u001b[0m\u001b[0m\n\u001b[0;32m     11\u001b[0m \u001b[1;33m\u001b[0m\u001b[0m\n",
      "\u001b[1;32mD:\\Anaconda3\\lib\\site-packages\\keras\\backend\\__init__.py\u001b[0m in \u001b[0;36m<module>\u001b[1;34m()\u001b[0m\n\u001b[0;32m     87\u001b[0m \u001b[1;32melif\u001b[0m \u001b[0m_BACKEND\u001b[0m \u001b[1;33m==\u001b[0m \u001b[1;34m'tensorflow'\u001b[0m\u001b[1;33m:\u001b[0m\u001b[1;33m\u001b[0m\u001b[0m\n\u001b[0;32m     88\u001b[0m     \u001b[0msys\u001b[0m\u001b[1;33m.\u001b[0m\u001b[0mstderr\u001b[0m\u001b[1;33m.\u001b[0m\u001b[0mwrite\u001b[0m\u001b[1;33m(\u001b[0m\u001b[1;34m'Using TensorFlow backend.\\n'\u001b[0m\u001b[1;33m)\u001b[0m\u001b[1;33m\u001b[0m\u001b[0m\n\u001b[1;32m---> 89\u001b[1;33m     \u001b[1;32mfrom\u001b[0m \u001b[1;33m.\u001b[0m\u001b[0mtensorflow_backend\u001b[0m \u001b[1;32mimport\u001b[0m \u001b[1;33m*\u001b[0m\u001b[1;33m\u001b[0m\u001b[0m\n\u001b[0m\u001b[0;32m     90\u001b[0m \u001b[1;32melse\u001b[0m\u001b[1;33m:\u001b[0m\u001b[1;33m\u001b[0m\u001b[0m\n\u001b[0;32m     91\u001b[0m     \u001b[1;31m# Try and load external backend.\u001b[0m\u001b[1;33m\u001b[0m\u001b[1;33m\u001b[0m\u001b[0m\n",
      "\u001b[1;32mD:\\Anaconda3\\lib\\site-packages\\keras\\backend\\tensorflow_backend.py\u001b[0m in \u001b[0;36m<module>\u001b[1;34m()\u001b[0m\n\u001b[0;32m      3\u001b[0m \u001b[1;32mfrom\u001b[0m \u001b[0m__future__\u001b[0m \u001b[1;32mimport\u001b[0m \u001b[0mprint_function\u001b[0m\u001b[1;33m\u001b[0m\u001b[0m\n\u001b[0;32m      4\u001b[0m \u001b[1;33m\u001b[0m\u001b[0m\n\u001b[1;32m----> 5\u001b[1;33m \u001b[1;32mimport\u001b[0m \u001b[0mtensorflow\u001b[0m \u001b[1;32mas\u001b[0m \u001b[0mtf\u001b[0m\u001b[1;33m\u001b[0m\u001b[0m\n\u001b[0m\u001b[0;32m      6\u001b[0m \u001b[1;32mfrom\u001b[0m \u001b[0mtensorflow\u001b[0m\u001b[1;33m.\u001b[0m\u001b[0mpython\u001b[0m\u001b[1;33m.\u001b[0m\u001b[0mframework\u001b[0m \u001b[1;32mimport\u001b[0m \u001b[0mops\u001b[0m \u001b[1;32mas\u001b[0m \u001b[0mtf_ops\u001b[0m\u001b[1;33m\u001b[0m\u001b[0m\n\u001b[0;32m      7\u001b[0m \u001b[1;32mfrom\u001b[0m \u001b[0mtensorflow\u001b[0m\u001b[1;33m.\u001b[0m\u001b[0mpython\u001b[0m\u001b[1;33m.\u001b[0m\u001b[0mtraining\u001b[0m \u001b[1;32mimport\u001b[0m \u001b[0mmoving_averages\u001b[0m\u001b[1;33m\u001b[0m\u001b[0m\n",
      "\u001b[1;31mModuleNotFoundError\u001b[0m: No module named 'tensorflow'"
     ]
    }
   ],
   "source": [
    "from keras.preprocessing.image import load_img, img_to_array\n",
    "\n",
    "npix = 224\n",
    "target_size = (npix,npix,3)\n",
    "\n",
    "def get_random_pictures(n_pictures):\n",
    "    count = 1\n",
    "    fig = plt.figure(figsize=(10,20))\n",
    "    for jpgfnm in uni_filenames[np.random.randint(0,uni_filenames.shape[0], size=n_pictures)]:\n",
    "        filename = dir_Flickr_jpg + '/' + jpgfnm\n",
    "        captions = list(df_txt[\"caption\"].loc[df_txt[\"filename\"]==jpgfnm].values)\n",
    "        image_load = load_img(filename, target_size=target_size)\n",
    "        \n",
    "        ax = fig.add_subplot(n_pictures,2,count,xticks=[],yticks=[])\n",
    "        ax.imshow(image_load)\n",
    "        count += 1\n",
    "\n",
    "        ax = fig.add_subplot(n_pictures,2,count)\n",
    "        plt.axis('off')\n",
    "        ax.plot()\n",
    "        ax.set_xlim(0,1)\n",
    "        ax.set_ylim(0,len(captions))\n",
    "        for i, caption in enumerate(captions):\n",
    "            ax.text(0,i,caption,fontsize=20)\n",
    "        count += 1\n",
    "    plt.show()\n",
    "    \n",
    "get_random_pictures(3)"
   ]
  },
  {
   "cell_type": "markdown",
   "metadata": {},
   "source": [
    "# Sentence Processing "
   ]
  },
  {
   "cell_type": "code",
   "execution_count": 4,
   "metadata": {
    "collapsed": true
   },
   "outputs": [],
   "source": [
    "def get_sentence_embedding(sentence, model):\n",
    "    embeddings = np.array([model.word_vec(word) for word in sentence.split() if word in model.wv.vocab.keys()])\n",
    "    if embeddings.ndim == 2:\n",
    "        return np.sum(embeddings.T,axis=1)\n",
    "    elif embeddings.ndim == 1:\n",
    "        return embeddings"
   ]
  },
  {
   "cell_type": "code",
   "execution_count": 5,
   "metadata": {
    "collapsed": true
   },
   "outputs": [],
   "source": [
    "text_model = gensim.models.KeyedVectors.load_word2vec_format('./GoogleNews-vectors-negative300-SLIM.bin', binary=True)  "
   ]
  },
  {
   "cell_type": "code",
   "execution_count": 6,
   "metadata": {},
   "outputs": [
    {
     "data": {
      "text/plain": [
       "(300,)"
      ]
     },
     "execution_count": 6,
     "metadata": {},
     "output_type": "execute_result"
    }
   ],
   "source": [
    "get_sentence_embedding('This is a test', text_model).shape"
   ]
  },
  {
   "cell_type": "markdown",
   "metadata": {},
   "source": [
    "# Image Processing "
   ]
  },
  {
   "cell_type": "code",
   "execution_count": 7,
   "metadata": {
    "collapsed": true
   },
   "outputs": [],
   "source": [
    "image_model = models.resnet18(pretrained=True)"
   ]
  },
  {
   "cell_type": "code",
   "execution_count": 8,
   "metadata": {
    "collapsed": true
   },
   "outputs": [],
   "source": [
    "device = 'cpu' #torch.device(\"cuda:0\" if torch.cuda.is_available() else \"cpu\")\n",
    "for param in image_model.parameters():\n",
    "    param.requires_grad = False\n",
    "image_model = image_model.to(device)"
   ]
  },
  {
   "cell_type": "code",
   "execution_count": 9,
   "metadata": {
    "collapsed": true
   },
   "outputs": [],
   "source": [
    "plt.ion()   # interactive mode\n",
    "\n",
    "data_transforms = {\n",
    "    'train': transforms.Compose([\n",
    "        transforms.Resize(256),\n",
    "        transforms.CenterCrop(224),\n",
    "        transforms.ToTensor(),\n",
    "        transforms.Normalize([0.485, 0.456, 0.406], [0.229, 0.224, 0.225])\n",
    "    ]),\n",
    "    'test': transforms.Compose([\n",
    "        transforms.Resize(256),\n",
    "        transforms.CenterCrop(224),\n",
    "        transforms.ToTensor(),\n",
    "        transforms.Normalize([0.485, 0.456, 0.406], [0.229, 0.224, 0.225])\n",
    "    ]),\n",
    "}\n",
    "\n",
    "data_dir = './Data/Circle_Dataset/'\n",
    "\n",
    "image_datasets = {x: datasets.ImageFolder(os.path.join(data_dir, x),\n",
    "                                          data_transforms[x])\n",
    "                  for x in ['train', 'test']}\n",
    "\n",
    "\n",
    "def classes_generation(dataset):\n",
    "    \n",
    "    if dataset == 'train':\n",
    "        image_datasets[dataset].classes = uni_filenames_train\n",
    "    elif dataset == 'test':\n",
    "        image_datasets[dataset].classes = uni_filenames_test\n",
    "        \n",
    "    class_names = image_datasets[dataset].classes\n",
    "  \n",
    "    image_datasets[dataset].class_to_idx = {image_datasets[dataset].classes[i]: i for i in range(len(image_datasets[dataset].classes))}\n",
    "\n",
    "    for i, (image, class_name) in enumerate(image_datasets[dataset].imgs):\n",
    "        filename  = image_datasets[dataset].class_to_idx[image.replace('./Data/Circle_Dataset/'+dataset+'\\\\images\\\\','')]\n",
    "        if dataset == 'train':\n",
    "            image_datasets[dataset].imgs[i] = (image, list(df_txt_train[df_txt_train[\"filename\"]==class_names[filename]]['caption'].values))\n",
    "        elif dataset == 'test':\n",
    "            image_datasets[dataset].imgs[i] = (image, list(df_txt_test[df_txt_test[\"filename\"]==class_names[filename]]['caption'].values))\n",
    "\n",
    "classes_generation('train')\n",
    "classes_generation('test')\n",
    "\n",
    "\n",
    "\n",
    "dataloaders = {x: torch.utils.data.DataLoader(image_datasets[x], batch_size=1,\n",
    "                                             shuffle=True, num_workers=4)\n",
    "              for x in ['train', 'test']}\n",
    "dataset_sizes = {x: len(image_datasets[x]) for x in ['train', 'test']}"
   ]
  },
  {
   "cell_type": "code",
   "execution_count": 10,
   "metadata": {},
   "outputs": [
    {
     "data": {
      "image/png": "[encoded data removed]",
      "text/plain": [
       "<matplotlib.figure.Figure at 0x220c3f8fe80>"
      ]
     },
     "metadata": {},
     "output_type": "display_data"
    }
   ],
   "source": [
    "def imshow(inp, title=None):\n",
    "    \"\"\"Imshow for Tensor.\"\"\"\n",
    "    inp = inp.numpy().transpose((1, 2, 0))\n",
    "    mean = np.array([0.485, 0.456, 0.406])\n",
    "    std = np.array([0.229, 0.224, 0.225])\n",
    "    inp = std * inp + mean\n",
    "    inp = np.clip(inp, 0, 1)\n",
    "    plt.imshow(inp)\n",
    "    if title is not None:\n",
    "        plt.title(title)\n",
    "    plt.pause(0.001)  # pause a bit so that plots are updated\n",
    "\n",
    "\n",
    "# Get a batch of training data\n",
    "inputs, classes = next(iter(dataloaders['train']))\n",
    "classes = [x[0] for x in classes]\n",
    "\n",
    "# Make a grid from batch\n",
    "out = torchvision.utils.make_grid(inputs)\n",
    "imshow(out, title=classes)\n"
   ]
  },
  {
   "cell_type": "code",
   "execution_count": 11,
   "metadata": {
    "collapsed": true
   },
   "outputs": [],
   "source": [
    "def generate_representations(dataset):\n",
    "    if dataset == 'train':\n",
    "        images= torch.zeros([df_txt_train.shape[0], 1000], dtype=torch.float)\n",
    "        captions = torch.zeros([df_txt_train.shape[0], 300], dtype=torch.float)\n",
    "    elif dataset == 'test':\n",
    "        images= torch.zeros([df_txt_test.shape[0], 1000], dtype=torch.float)\n",
    "        captions = torch.zeros([df_txt_test.shape[0], 300], dtype=torch.float)\n",
    "        \n",
    "    for i, (image, labels) in enumerate(dataloaders[dataset]):\n",
    "        labels = [x[0] for x in labels]\n",
    "        im = image_model(image)\n",
    "        for j in range(len(labels)):\n",
    "            capt = get_sentence_embedding(labels[j], text_model)\n",
    "            if capt.size == 300:\n",
    "                # a modifier pour ne pas sauvegarder 5x la meme image\n",
    "                images[i+j] = im\n",
    "                captions[i+j] = torch.from_numpy(capt)\n",
    "    return images, captions\n",
    "\n",
    "images_train, captions_train = generate_representations('train')\n",
    "images_test, captions_test = generate_representations('test')"
   ]
  },
  {
   "cell_type": "code",
   "execution_count": 12,
   "metadata": {},
   "outputs": [
    {
     "data": {
      "text/plain": [
       "tensor([[-0.7802, -0.5826, -0.5586,  ..., -0.6609,  1.2589,  0.9917],\n",
       "        [-0.6888, -0.3985, -0.4927,  ..., -0.5823,  1.2448,  0.9889],\n",
       "        [-0.6769, -0.5025, -0.5505,  ..., -0.6794,  1.2222,  1.0452],\n",
       "        ...,\n",
       "        [-0.5975, -0.3889, -0.5880,  ..., -0.6137,  1.2614,  1.0577],\n",
       "        [-0.7384, -0.3644, -0.5164,  ..., -0.6709,  1.1350,  0.9233],\n",
       "        [-0.5678, -0.4392, -0.5963,  ..., -0.5979,  1.2612,  1.0830]])"
      ]
     },
     "execution_count": 12,
     "metadata": {},
     "output_type": "execute_result"
    }
   ],
   "source": [
    "images_train"
   ]
  },
  {
   "cell_type": "code",
   "execution_count": null,
   "metadata": {
    "collapsed": true
   },
   "outputs": [],
   "source": []
  },
  {
   "cell_type": "markdown",
   "metadata": {},
   "source": [
    "# Sparse Autoencoder\n"
   ]
  },
  {
   "cell_type": "code",
   "execution_count": 12,
   "metadata": {
    "collapsed": true
   },
   "outputs": [],
   "source": [
    "import torch.nn as nn\n",
    "import torch.nn.functional as F\n",
    "\n",
    "class SparseAutoencoder(nn.Module):\n",
    "    def __init__(self, n_inp, n_hidden):\n",
    "        super(SparseAutoencoder, self).__init__()\n",
    "        self.encoder = nn.Linear(n_inp, n_hidden)\n",
    "        self.decoder = nn.Linear(n_hidden, n_inp)\n",
    "\n",
    "    def forward(self, x):\n",
    "        encoded = F.relu(self.encoder(x)) # relu or sigmoid\n",
    "        decoded = F.sigmoid(self.decoder(encoded))\n",
    "        return encoded, decoded\n",
    "    "
   ]
  },
  {
   "cell_type": "code",
   "execution_count": 13,
   "metadata": {
    "collapsed": true
   },
   "outputs": [],
   "source": [
    "# Model parameters\n",
    "# BATCH_SIZE = 5 a intégrer\n",
    "N_INP = 1000 + 300 # Image representation + Word2Vec\n",
    "N_HIDDEN = 2000\n",
    "N_EPOCHS = 30\n",
    "LEARNING_RATE = 1e-3\n",
    "\n",
    "use_kl = False\n",
    "\n",
    "# If using KL-divergence\n",
    "BETA = 3 # Importance of the KL-divergence penalty term\n",
    "RHO = 0.01 # Target sparsity\n",
    "\n",
    "if use_kl :\n",
    "    rho = torch.FloatTensor([RHO for _ in range(N_HIDDEN)]).unsqueeze(0)\n",
    "\n",
    "# If using L1 regularization\n",
    "LAMBDA = 1e-5 # L1 penalty term"
   ]
  },
  {
   "cell_type": "code",
   "execution_count": 14,
   "metadata": {
    "collapsed": true
   },
   "outputs": [],
   "source": [
    "auto_encoder = SparseAutoencoder(N_INP, N_HIDDEN)\n",
    "optimizer = optim.Adam(auto_encoder.parameters(), lr=LEARNING_RATE)"
   ]
  },
  {
   "cell_type": "code",
   "execution_count": 15,
   "metadata": {
    "collapsed": true
   },
   "outputs": [],
   "source": [
    "def kl_divergence(p, q):\n",
    "    '''\n",
    "    args:\n",
    "        2 tensors `p` and `q`\n",
    "    returns:\n",
    "        kl divergence between the softmax of `p` and `q`\n",
    "    '''\n",
    "    p = F.softmax(p)\n",
    "    q = F.softmax(q)\n",
    "\n",
    "    s1 = torch.sum(p * torch.log(p / q))\n",
    "    s2 = torch.sum((1 - p) * torch.log((1 - p) / (1 - q)))\n",
    "\n",
    "    return s1 + s2"
   ]
  },
  {
   "cell_type": "code",
   "execution_count": 16,
   "metadata": {
    "collapsed": true
   },
   "outputs": [],
   "source": [
    "def l1_penalty(var):\n",
    "    return torch.abs(var).sum()"
   ]
  },
  {
   "cell_type": "code",
   "execution_count": 34,
   "metadata": {},
   "outputs": [],
   "source": [
    "from sklearn.manifold import TSNE\n",
    "#x_embedded = TSNE(n_components=2).fit_transform(captions_train.numpy())\n",
    "#print(x_embedded.shape)"
   ]
  },
  {
   "cell_type": "code",
   "execution_count": 113,
   "metadata": {},
   "outputs": [
    {
     "data": {
      "text/plain": [
       "<matplotlib.collections.PathCollection at 0x1f564126128>"
      ]
     },
     "execution_count": 113,
     "metadata": {},
     "output_type": "execute_result"
    },
    {
     "data": {
      "image/png": "[encoded data removed]",
      "text/plain": [
       "<matplotlib.figure.Figure at 0x1f554b476a0>"
      ]
     },
     "metadata": {},
     "output_type": "display_data"
    }
   ],
   "source": [
    "plt.scatter(x_embedded[:, 0], x_embedded[:, 1])"
   ]
  },
  {
   "cell_type": "code",
   "execution_count": 17,
   "metadata": {
    "collapsed": true
   },
   "outputs": [],
   "source": [
    "def normalize(dataset):\n",
    "    '''Normalization between 0 and 1'''\n",
    "    for i, row in enumerate(dataset):\n",
    "        min = torch.min(row)\n",
    "        max = torch.max(row)\n",
    "    \n",
    "        dataset[i] = (row - min)/(max - min)\n",
    "    return dataset"
   ]
  },
  {
   "cell_type": "code",
   "execution_count": 18,
   "metadata": {
    "collapsed": true
   },
   "outputs": [],
   "source": [
    "images_train = normalize(images_train)\n",
    "# = TSNE(n_components=2).fit_transform(images_train.numpy())\n",
    "#plt.scatter(x_embedded[:, 0], x_embedded[:, 1])\n",
    "#plt.show()\n",
    "captions_train = normalize(captions_train)\n",
    "#x_embedded = TSNE(n_components=2).fit_transform(captions_train.numpy())\n",
    "#plt.scatter(x_embedded[:, 0], x_embedded[:, 1])\n",
    "#plt.show()"
   ]
  },
  {
   "cell_type": "code",
   "execution_count": 19,
   "metadata": {
    "collapsed": true
   },
   "outputs": [],
   "source": [
    "dataset = torch.cat((images_train, captions_train), 1)\n",
    "#x_embedded = TSNE(n_components=2).fit_transform(dataset.numpy())\n",
    "#plt.scatter(x_embedded[:, 0], x_embedded[:, 1])\n",
    "#plt.show()"
   ]
  },
  {
   "cell_type": "code",
   "execution_count": 19,
   "metadata": {},
   "outputs": [
    {
     "name": "stdout",
     "output_type": "stream",
     "text": [
      "Final MSE :  tensor(0.0006, grad_fn=<MseLossBackward>)\n"
     ]
    }
   ],
   "source": [
    "def train(n_hidden=N_HIDDEN, l1=LAMBDA, images_train=images_train, captions_train=captions_train):\n",
    "    \n",
    "    auto_encoder = SparseAutoencoder(N_INP, n_hidden)\n",
    "    optimizer = optim.Adam(auto_encoder.parameters(), lr=LEARNING_RATE)\n",
    "    \n",
    "    dataset = torch.cat((images_train, captions_train), 1)\n",
    "\n",
    "\n",
    "    for epoch in range(N_EPOCHS):\n",
    "\n",
    "        encoded, decoded = auto_encoder(dataset)\n",
    "\n",
    "        mse_loss = F.mse_loss(decoded, dataset)\n",
    "\n",
    "        rho_hat = torch.sum(encoded, dim=0, keepdim=True)\n",
    "\n",
    "        if use_kl:\n",
    "            sparsity_penalty = BETA * kl_divergence(rho, rho_hat)\n",
    "            loss = mse_loss + sparsity_penalty\n",
    "        else:\n",
    "            l1_reg = l1 * l1_penalty(auto_encoder.encoder.weight)\n",
    "            loss = mse_loss + l1_reg\n",
    "\n",
    "        optimizer.zero_grad() # Clears the gradient\n",
    "        loss.backward() # Computes gradient\n",
    "        optimizer.step() # Update rule\n",
    "        #if epoch%10 == 0:\n",
    "            #print(\"Epoch: [%3d], Loss: %.4f\" %(epoch + 1, loss.data))\n",
    "            #print(\"Reconstruction mean squared error : \", mse_loss)\n",
    "            #print(\"Average sparsity : \",  rho_hat.sum()/N_HIDDEN)\n",
    "        \n",
    "        if epoch==N_EPOCHS-1:\n",
    "            print(\"Final MSE : \", mse_loss)\n",
    "            #x_embedded = TSNE(n_components=2).fit_transform(encoded.detach().numpy())\n",
    "            #plt.scatter(x_embedded[:, 0], x_embedded[:, 1])\n",
    "            #plt.show()\n",
    "        \n",
    "    #hist = torch.histc(auto_encoder.encoder.weight)\n",
    "    #inf = torch.min(auto_encoder.encoder.weight.detach())\n",
    "    #sup = torch.max(auto_encoder.encoder.weight.detach())\n",
    "    #plt.plot(list(np.linspace(inf, sup, 100)), hist.detach().numpy())\n",
    "    #plt.title(\"n_hidden : {0}, l1_reg : {1}\".format(n_hidden, l1))\n",
    "    #plt.show()\n",
    "    return auto_encoder\n",
    "auto_encoder = train()"
   ]
  },
  {
   "cell_type": "code",
   "execution_count": 106,
   "metadata": {},
   "outputs": [
    {
     "name": "stdout",
     "output_type": "stream",
     "text": [
      "Final MSE :  tensor(0.0033, grad_fn=<MseLossBackward>)\n"
     ]
    },
    {
     "data": {
      "image/png": "[encoded data removed]",
      "text/plain": [
       "<matplotlib.figure.Figure at 0x1f55da316a0>"
      ]
     },
     "metadata": {},
     "output_type": "display_data"
    },
    {
     "name": "stdout",
     "output_type": "stream",
     "text": [
      "Final MSE :  tensor(0.0036, grad_fn=<MseLossBackward>)\n"
     ]
    },
    {
     "data": {
      "image/png": "[encoded data removed]",
      "text/plain": [
       "<matplotlib.figure.Figure at 0x1f55c1e7160>"
      ]
     },
     "metadata": {},
     "output_type": "display_data"
    },
    {
     "name": "stdout",
     "output_type": "stream",
     "text": [
      "Final MSE :  tensor(0.0007, grad_fn=<MseLossBackward>)\n"
     ]
    },
    {
     "data": {
      "image/png": "[encoded data removed]",
      "text/plain": [
       "<matplotlib.figure.Figure at 0x1f5730fcdd8>"
      ]
     },
     "metadata": {},
     "output_type": "display_data"
    },
    {
     "name": "stdout",
     "output_type": "stream",
     "text": [
      "Final MSE :  tensor(0.0006, grad_fn=<MseLossBackward>)\n"
     ]
    },
    {
     "data": {
      "image/png": "[encoded data removed]",
      "text/plain": [
       "<matplotlib.figure.Figure at 0x1f562e6e470>"
      ]
     },
     "metadata": {},
     "output_type": "display_data"
    },
    {
     "name": "stdout",
     "output_type": "stream",
     "text": [
      "Final MSE :  tensor(0.0006, grad_fn=<MseLossBackward>)\n"
     ]
    },
    {
     "data": {
      "image/png": "[encoded data removed]",
      "text/plain": [
       "<matplotlib.figure.Figure at 0x1f55c560b38>"
      ]
     },
     "metadata": {},
     "output_type": "display_data"
    },
    {
     "name": "stdout",
     "output_type": "stream",
     "text": [
      "Final MSE :  tensor(0.0006, grad_fn=<MseLossBackward>)\n"
     ]
    },
    {
     "data": {
      "image/png": "[encoded data removed]",
      "text/plain": [
       "<matplotlib.figure.Figure at 0x1f5626bf7b8>"
      ]
     },
     "metadata": {},
     "output_type": "display_data"
    }
   ],
   "source": [
    "import itertools\n",
    "for n_hidden, l1 in itertools.product([100,1300,3000],[0,1e-5]):\n",
    "    train(n_hidden, l1)"
   ]
  },
  {
   "cell_type": "code",
   "execution_count": 82,
   "metadata": {},
   "outputs": [
    {
     "name": "stdout",
     "output_type": "stream",
     "text": [
      "tensor(-0.0348)\n",
      "tensor(0.0306)\n",
      "[2.0000e+00 1.6600e+02 5.0230e+03 8.3480e+03 8.8140e+03 9.6930e+03\n",
      " 1.0053e+04 1.0546e+04 1.1162e+04 1.1582e+04 1.4692e+04 2.8158e+04\n",
      " 2.9662e+04 3.0211e+04 3.0901e+04 3.0908e+04 3.0804e+04 3.0508e+04\n",
      " 3.0539e+04 3.0440e+04 3.0569e+04 3.0851e+04 3.0873e+04 3.0729e+04\n",
      " 3.0760e+04 3.0890e+04 3.0965e+04 3.0513e+04 3.0502e+04 3.0539e+04\n",
      " 3.0672e+04 3.0635e+04 3.0502e+04 3.0528e+04 3.0787e+04 3.0681e+04\n",
      " 3.0596e+04 3.0478e+04 3.0789e+04 3.0904e+04 3.0804e+04 3.0722e+04\n",
      " 3.0572e+04 3.0740e+04 3.0563e+04 3.0832e+04 3.0917e+04 3.0835e+04\n",
      " 3.0482e+04 3.0633e+04 3.0630e+04 3.0757e+04 3.0592e+04 3.0697e+04\n",
      " 3.0630e+04 3.0594e+04 3.0927e+04 3.0963e+04 3.0722e+04 3.0819e+04\n",
      " 3.0969e+04 3.0753e+04 3.0739e+04 3.1120e+04 3.0872e+04 3.0649e+04\n",
      " 3.0611e+04 3.1015e+04 3.0898e+04 3.0808e+04 3.0908e+04 3.1084e+04\n",
      " 3.0657e+04 3.0408e+04 3.0539e+04 3.0721e+04 3.0854e+04 3.0605e+04\n",
      " 3.0476e+04 3.0719e+04 3.0517e+04 3.0631e+04 3.0610e+04 3.0941e+04\n",
      " 3.0470e+04 3.0655e+04 3.0099e+04 2.4479e+04 2.1700e+04 2.0937e+04\n",
      " 2.0452e+04 1.9929e+04 1.9078e+04 1.8626e+04 1.8266e+04 1.3355e+04\n",
      " 2.3940e+03 8.3800e+02 1.8700e+02 2.5000e+01]\n"
     ]
    },
    {
     "data": {
      "text/plain": [
       "[<matplotlib.lines.Line2D at 0x1f5557a3f60>]"
      ]
     },
     "execution_count": 82,
     "metadata": {},
     "output_type": "execute_result"
    },
    {
     "data": {
      "image/png": "[encoded data removed]",
      "text/plain": [
       "<matplotlib.figure.Figure at 0x1f55bbd7e10>"
      ]
     },
     "metadata": {},
     "output_type": "display_data"
    }
   ],
   "source": [
    "hist = torch.histc(auto_encoder.encoder.weight)\n",
    "inf = torch.min(auto_encoder.encoder.weight.detach())\n",
    "print(inf)\n",
    "sup = torch.max(auto_encoder.encoder.weight.detach())\n",
    "print(sup)\n",
    "print(hist.detach().numpy())\n",
    "plt.plot(list(np.linspace(inf, sup, 100)), hist.detach().numpy())"
   ]
  },
  {
   "cell_type": "code",
   "execution_count": 91,
   "metadata": {
    "scrolled": true
   },
   "outputs": [
    {
     "name": "stdout",
     "output_type": "stream",
     "text": [
      "983 elements different from 0\n",
      "Reconstruction mean squared error on test :  tensor(0.0006, grad_fn=<MseLossBackward>)\n",
      "tensor([0.3638, 0.4264, 0.3701,  ..., 0.3884, 0.5043, 0.4125])\n",
      "tensor([0.3521, 0.3982, 0.3712,  ..., 0.3780, 0.4941, 0.3876],\n",
      "       grad_fn=<SelectBackward>)\n",
      "tensor([[0.0118, 0.0282, 0.0010,  ..., 0.0104, 0.0102, 0.0249],\n",
      "        [0.0329, 0.0090, 0.0212,  ..., 0.0284, 0.0144, 0.0475],\n",
      "        [0.0223, 0.0203, 0.0268,  ..., 0.0089, 0.0050, 0.0106],\n",
      "        ...,\n",
      "        [0.0098, 0.0073, 0.0065,  ..., 0.0039, 0.0028, 0.0350],\n",
      "        [0.0195, 0.0128, 0.0123,  ..., 0.0100, 0.0101, 0.0246],\n",
      "        [0.0082, 0.0001, 0.0054,  ..., 0.0119, 0.0100, 0.0262]],\n",
      "       grad_fn=<AbsBackward>)\n",
      "tensor(46058.9570, grad_fn=<SumBackward0>)\n"
     ]
    }
   ],
   "source": [
    "# Test\n",
    "\n",
    "images_test = normalize(images_train) # Ou mieux de normaliser dataset après concaténation ??????\n",
    "captions_test = normalize(captions_train)\n",
    "\n",
    "dataset_test = torch.cat((images_test, captions_test), 1)\n",
    "\n",
    "#dataset_test = normalize(dataset_test)\n",
    "\n",
    "encoded_test, decoded_test = auto_encoder(dataset_test)\n",
    "mse_loss_test = F.mse_loss(decoded_test, dataset_test)\n",
    "\n",
    "i=0\n",
    "for e in encoded[0]:\n",
    "    if e > 1e-3:\n",
    "        i+=1\n",
    "print(i, \"elements different from 0\")\n",
    "print(\"Reconstruction mean squared error on test : \", mse_loss_test)\n",
    "print(dataset_test[0])\n",
    "print(decoded_test[0])\n",
    "print(torch.abs(dataset_test-decoded_test))\n",
    "print(torch.sum(torch.abs(dataset_test-decoded_test)))\n",
    "# divide by norm for percentage"
   ]
  },
  {
   "cell_type": "markdown",
   "metadata": {},
   "source": [
    "# Autoassociative memory - Hopfield Network - BCPNN"
   ]
  },
  {
   "cell_type": "code",
   "execution_count": 81,
   "metadata": {},
   "outputs": [
    {
     "name": "stdout",
     "output_type": "stream",
     "text": [
      "<class 'torch.Tensor'>\n",
      "<class 'numpy.ndarray'>\n"
     ]
    }
   ],
   "source": [
    "# Get autoencoder's hidden representations\n",
    "x = torch.cat((images_train, captions_train), 1)\n",
    "encoded, _ = auto_encoder(x)\n",
    "print(type(encoded))\n",
    "encoded = encoded.detach().numpy()\n",
    "print(type(encoded))"
   ]
  },
  {
   "cell_type": "markdown",
   "metadata": {},
   "source": [
    "# Continuous approach"
   ]
  },
  {
   "cell_type": "code",
   "execution_count": 52,
   "metadata": {
    "collapsed": true
   },
   "outputs": [],
   "source": [
    "def calculate_weights(learning_samples, nb_hypercolumns):\n",
    "    # BCPNN without hypercolumns\n",
    "    hypercolumn_size = (learning_samples.shape[1]+(nb_hypercolumns-learning_samples.shape[1]%nb_hypercolumns))/nb_hypercolumns\n",
    "    nb_samples = learning_samples.shape[0]\n",
    "    activation_probabilities = np.sum(learning_samples, axis=0)/nb_samples # Only if patterns are only made of 0 and 1\n",
    "    coactivation_probabilities = (np.transpose(learning_samples) @ learning_samples) / nb_samples\n",
    "    #np.fill_diagonal(coactivation_probabilities, 0)\n",
    "    \n",
    "    w = np.zeros((nb_samples, nb_samples))\n",
    "    \n",
    "    for i in range(w.shape[0]):\n",
    "        for j in range(w.shape[1]):\n",
    "            if i//hypercolumn_size == j//hypercolumn_size or i==j:\n",
    "                w[i, j] = 0\n",
    "            if activation_probabilities[i] == 0 or activation_probabilities[j] == 0:\n",
    "                w[i, j] = 0 # Useless\n",
    "            elif coactivation_probabilities[i, j] == 0: # Mettre un seuil à la place de 0 ?\n",
    "                w[i, j] = 1/nb_samples # Cas continu ?\n",
    "            else:\n",
    "                w[i, j] = coactivation_probabilities[i, j]/(activation_probabilities[i]*activation_probabilities[j]) \n",
    "             \n",
    "    bias = np.where(activation_probabilities == 0, 1/(nb_samples**2), activation_probabilities) # Mettre un seuil à la place de 0 ?\n",
    "    \n",
    "    return w, bias"
   ]
  },
  {
   "cell_type": "code",
   "execution_count": 72,
   "metadata": {},
   "outputs": [
    {
     "name": "stdout",
     "output_type": "stream",
     "text": [
      "[[1.00025451 1.00020874 0.         ... 1.00007534 1.0003252  0.        ]\n",
      " [1.00020874 1.00019169 0.         ... 1.00006592 1.00027514 0.        ]\n",
      " [0.         0.         0.         ... 0.         0.         0.        ]\n",
      " ...\n",
      " [1.00007534 1.00006592 0.         ... 1.00197101 1.00046313 0.        ]\n",
      " [1.0003252  1.00027514 0.         ... 1.00046313 1.00058532 0.        ]\n",
      " [0.         0.         0.         ... 0.         0.         0.        ]]\n",
      "[2.1873425e-01 3.1230190e-01 2.5000000e-07 ... 2.3178685e-02 1.2004756e-01\n",
      " 2.5000000e-07]\n"
     ]
    }
   ],
   "source": [
    "w, bias = calculate_weights(encoded, 2)\n",
    "print(w)\n",
    "print(bias)"
   ]
  },
  {
   "cell_type": "code",
   "execution_count": 73,
   "metadata": {
    "collapsed": true
   },
   "outputs": [],
   "source": [
    "def sigmoid(x):\n",
    "  return 1/(1+np.exp(-x))"
   ]
  },
  {
   "cell_type": "code",
   "execution_count": 75,
   "metadata": {},
   "outputs": [
    {
     "name": "stdout",
     "output_type": "stream",
     "text": [
      "2191198.8252340555\n",
      "536675.1242090412\n",
      "0.0\n"
     ]
    },
    {
     "data": {
      "image/png": "[encoded data removed]",
      "text/plain": [
       "<matplotlib.figure.Figure at 0x220c906f320>"
      ]
     },
     "metadata": {},
     "output_type": "display_data"
    }
   ],
   "source": [
    "# Test on test set\n",
    "x = encoded_test.detach().numpy()\n",
    "x_before = x\n",
    "for i in range(3) :\n",
    "    x = np.dot(w, x) + bias\n",
    "    x = sigmoid(x)\n",
    "    print(np.sum(np.abs(x-x_before)))\n",
    "    x_before = x\n",
    "    \n",
    "x_embedded = TSNE(n_components=2).fit_transform(x)\n",
    "plt.scatter(x_embedded[:, 0], x_embedded[:, 1])\n",
    "plt.show()"
   ]
  },
  {
   "cell_type": "markdown",
   "metadata": {},
   "source": [
    "# Discrete approach"
   ]
  },
  {
   "cell_type": "code",
   "execution_count": 84,
   "metadata": {},
   "outputs": [
    {
     "name": "stdout",
     "output_type": "stream",
     "text": [
      "[0.20840424 0.21227645 0.21614866 0.22002087 0.22389308 0.22776528]\n",
      "(2000, 10000)\n"
     ]
    }
   ],
   "source": [
    "# Discretize the input : 1 hypercolumn per element with same number of units in each hypercolumn\n",
    "# Same number of intervals for the continuous elements\n",
    "\n",
    "nb_intervals = 5\n",
    "\n",
    "# Do better by looking at the distribution inside the dataset\n",
    "intervals = np.ones((nb_intervals+1, encoded.shape[1]))\n",
    "for j in range(encoded.shape[1]):\n",
    "    inf = np.min(encoded[:, j])\n",
    "    sup = np.max(encoded[:, j])\n",
    "\n",
    "    if inf != sup:\n",
    "        intervals[:, j] = np.arange(inf, sup, (sup-inf)/(nb_intervals+1))\n",
    "    else:\n",
    "        intervals[:, j] = extrema[:, j]*sup\n",
    "print(intervals[:, 0])\n",
    "\n",
    "def discretize(x, intervals, nb_intervals):\n",
    "    discrete_x = np.zeros((x.shape[0], nb_intervals*x.shape[1])) # one line is one hypercolumn\n",
    "    for j in range(x.shape[1]):\n",
    "        if intervals[0, j] != intervals[1, j]:\n",
    "            for i, e in enumerate(x[:, j]):\n",
    "                for k in range(1, intervals.shape[0]):\n",
    "                    if e > intervals[k-1, j] and e < intervals[k, j]:\n",
    "                        discrete_x[i, j*nb_intervals + k-1] = 1\n",
    "                        break\n",
    "\n",
    "    return discrete_x\n",
    "\n",
    "discrete_encoded = discretize(encoded, intervals, nb_intervals)\n",
    "print(discrete_encoded.shape)"
   ]
  },
  {
   "cell_type": "code",
   "execution_count": 85,
   "metadata": {},
   "outputs": [
    {
     "name": "stdout",
     "output_type": "stream",
     "text": [
      "2000\n",
      "[[4.08163265e+01 5.00000000e-04 5.00000000e-04 ... 5.00000000e-04\n",
      "  5.00000000e-04 5.00000000e-04]\n",
      " [5.00000000e-04 4.97512438e+00 5.00000000e-04 ... 3.50101345e-01\n",
      "  2.48756219e-01 5.00000000e-04]\n",
      " [5.00000000e-04 5.00000000e-04 2.33100233e+00 ... 8.11534145e-01\n",
      "  5.63325563e-01 3.04043782e-01]\n",
      " ...\n",
      " [5.00000000e-04 3.50101345e-01 8.11534145e-01 ... 7.40740741e+00\n",
      "  5.00000000e-04 5.00000000e-04]\n",
      " [5.00000000e-04 2.48756219e-01 5.63325563e-01 ... 5.00000000e-04\n",
      "  1.66666667e+01 5.00000000e-04]\n",
      " [5.00000000e-04 5.00000000e-04 3.04043782e-01 ... 5.00000000e-04\n",
      "  5.00000000e-04 4.34782609e+01]]\n",
      "[2.45e-02 2.01e-01 4.29e-01 ... 2.50e-07 2.50e-07 2.50e-07]\n"
     ]
    }
   ],
   "source": [
    "print(encoded.shape[1])\n",
    "w, bias = calculate_weights(discrete_encoded, encoded.shape[1])\n",
    "print(w)\n",
    "print(bias)"
   ]
  },
  {
   "cell_type": "code",
   "execution_count": 109,
   "metadata": {},
   "outputs": [
    {
     "name": "stdout",
     "output_type": "stream",
     "text": [
      "[[0. 0. 1. ... 0. 0. 0.]\n",
      " [0. 0. 0. ... 0. 0. 0.]\n",
      " [0. 0. 0. ... 0. 0. 0.]\n",
      " ...\n",
      " [0. 1. 0. ... 0. 0. 0.]\n",
      " [0. 0. 1. ... 0. 0. 0.]\n",
      " [0. 0. 0. ... 0. 0. 0.]]\n"
     ]
    }
   ],
   "source": [
    "# Test on test set\n",
    "x = discretize(encoded_test.detach().numpy(), intervals, nb_intervals)\n",
    "print(x)"
   ]
  },
  {
   "cell_type": "code",
   "execution_count": 110,
   "metadata": {},
   "outputs": [
    {
     "name": "stdout",
     "output_type": "stream",
     "text": [
      "[[0. 0. 1. ... 0. 0. 0.]\n",
      " [0. 0. 0. ... 0. 0. 0.]\n",
      " [0. 0. 0. ... 0. 0. 0.]\n",
      " ...\n",
      " [0. 1. 0. ... 0. 0. 0.]\n",
      " [0. 0. 1. ... 0. 0. 0.]\n",
      " [0. 0. 0. ... 0. 0. 0.]]\n",
      "11825110.863296663\n",
      "2567223.4901285414\n",
      "0.0\n",
      "[[1. 1. 1. ... 1. 1. 1.]\n",
      " [1. 1. 1. ... 1. 1. 1.]\n",
      " [1. 1. 1. ... 1. 1. 1.]\n",
      " ...\n",
      " [1. 1. 1. ... 1. 1. 1.]\n",
      " [1. 1. 1. ... 1. 1. 1.]\n",
      " [1. 1. 1. ... 1. 1. 1.]]\n"
     ]
    },
    {
     "data": {
      "image/png": "[encoded data removed]",
      "text/plain": [
       "<matplotlib.figure.Figure at 0x220c75ed198>"
      ]
     },
     "metadata": {},
     "output_type": "display_data"
    }
   ],
   "source": [
    "print(x)\n",
    "x_before = x\n",
    "\n",
    "for i in range(3):\n",
    "    x = np.dot(w, x) + bias\n",
    "    # Better to use softmax inside a hypercolumn than sigmoid \n",
    "    x = sigmoid(x)\n",
    "    #for j in range(x.shape[1]):\n",
    "    #    if j == 0 or j%nb_intervals == 0:\n",
    "    #        denominator = np.sum(np.exp(x[:, j:j+nb_intervals]), axis=1)\n",
    "    #        print(denominator.shape)\n",
    "    #    x[:, j] = np.exp(x[:, j])/denominator\n",
    "    print(np.sum(np.abs(x-x_before)))\n",
    "    x_before = x\n",
    "    print\n",
    "\n",
    "print(x)  \n",
    "x_embedded = TSNE(n_components=2).fit_transform(x)\n",
    "plt.scatter(x_embedded[:, 0], x_embedded[:, 1])\n",
    "plt.show()"
   ]
  },
  {
   "cell_type": "code",
   "execution_count": 56,
   "metadata": {
    "collapsed": true
   },
   "outputs": [],
   "source": [
    "def energy(x, w):\n",
    "    \n",
    "    energy = 0\n",
    "    for i in range(w.shape[0]):\n",
    "        for j in range(w.shape[1]):\n",
    "            energy -= w[i, j]*x[i]*x[j]\n",
    "            \n",
    "    return energy"
   ]
  },
  {
   "cell_type": "code",
   "execution_count": 57,
   "metadata": {
    "collapsed": true
   },
   "outputs": [],
   "source": [
    "def update_rule_little_model(x, w):\n",
    "\n",
    "    x = x @ w\n",
    "    #x = np.where(x>=0, 1, -1)\n",
    "    #x = np.tanh(x)\n",
    "\n",
    "    return x"
   ]
  },
  {
   "cell_type": "code",
   "execution_count": 58,
   "metadata": {
    "collapsed": true
   },
   "outputs": [],
   "source": [
    "def recall(x, w):\n",
    "    \n",
    "    print(\"Initial energy : \", energy(x, w))\n",
    "    x_new = update_rule_little_model(x, w)\n",
    "    i = 0 # To stop if no convergence\n",
    "    print(\"Energy : \", energy(x_new, w))\n",
    "    while(np.array_equal(x_new, x) == False and i<10):\n",
    "        x = x_new\n",
    "        x_new = update_rule_little_model(x, w)\n",
    "        print(\"Energy : \", energy(x_new, w))\n",
    "        i+=1\n",
    "        \n",
    "    return x_new, i"
   ]
  },
  {
   "cell_type": "code",
   "execution_count": 59,
   "metadata": {},
   "outputs": [
    {
     "name": "stdout",
     "output_type": "stream",
     "text": [
      "[[0.        0.        0.        ... 0.        0.        0.       ]\n",
      " [0.        0.        0.        ... 0.        0.        0.       ]\n",
      " [0.        2.2600746 0.        ... 0.        0.        0.       ]\n",
      " [0.        0.3181247 0.        ... 0.        0.        0.       ]\n",
      " [0.        0.        0.        ... 0.        0.        0.       ]]\n",
      "Initial energy :  -8550.918475982548\n",
      "Energy :  -51848276.32394375\n",
      "Energy :  -375481217982.0229\n",
      "Energy :  -2753086955377024.0\n",
      "Energy :  -2.020736350760598e+19\n",
      "Energy :  -1.4833648162475466e+23\n",
      "Energy :  -1.0889102808537072e+27\n",
      "Energy :  -7.993498971463502e+30\n",
      "Energy :  -5.8678885952541e+34\n",
      "Energy :  -4.307515011647521e+38\n",
      "Energy :  -inf\n",
      "Energy :  -inf\n",
      "(1800,)\n",
      "[0.        2.2600746 0.        ... 0.        0.        0.       ]\n",
      "[0.000000e+00 8.860412e+20 0.000000e+00 ... 0.000000e+00 0.000000e+00\n",
      " 0.000000e+00]\n",
      "1.7482015e+23\n"
     ]
    }
   ],
   "source": [
    "encoded = encoded.detach().numpy()\n",
    "print(encoded)\n",
    "w = calculate_weights(learning_patterns=encoded)\n",
    "x, _ = recall(encoded[2,:], w)\n",
    "print(x.shape)\n",
    "print(encoded[2,:])\n",
    "print(x)\n",
    "print(np.sum(np.abs(x-encoded[2,:])))"
   ]
  }
 ],
 "metadata": {
  "kernelspec": {
   "display_name": "Python 3",
   "language": "python",
   "name": "python3"
  },
  "language_info": {
   "codemirror_mode": {
    "name": "ipython",
    "version": 3
   },
   "file_extension": ".py",
   "mimetype": "text/x-python",
   "name": "python",
   "nbconvert_exporter": "python",
   "pygments_lexer": "ipython3",
   "version": "3.6.2"
  }
 },
 "nbformat": 4,
 "nbformat_minor": 2
}
